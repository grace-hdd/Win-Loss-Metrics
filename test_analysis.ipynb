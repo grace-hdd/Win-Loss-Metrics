{
 "cells": [
  {
   "cell_type": "code",
   "execution_count": 9,
   "metadata": {},
   "outputs": [],
   "source": [
    "import pandas as pd\n",
    "import numpy as np\n",
    "# import matplotlib.pyplot as plt  # Uncomment if you have matplotlib installed\n",
    "# import seaborn as sns  # Uncomment if you have seaborn installed\n",
    "\n",
    "from win_loss_metrics import (\n",
    "    win_loss_ratio, win_rate, max_streak, avg_streak, calculate_all_metrics\n",
    ")\n",
    "\n"
   ]
  },
  {
   "cell_type": "code",
   "execution_count": 10,
   "metadata": {},
   "outputs": [
    {
     "name": "stdout",
     "output_type": "stream",
     "text": [
      "Dataset shape: (12633, 7)\n",
      "\n",
      "First 5 rows:\n",
      "                   Timestamp     Open     High      Low    Close  \\\n",
      "0  2018-02-09 00:00:00+00:00  7611.61  7611.61  7611.61  7611.61   \n",
      "1  2018-02-10 00:00:00+00:00  8208.57  8674.76  7847.14  8672.57   \n",
      "2  2018-02-11 00:00:00+00:00  8659.92  9088.97  8283.43  8590.21   \n",
      "3  2018-02-12 00:00:00+00:00  8583.38  8583.38  7890.82  8064.69   \n",
      "4  2018-02-13 00:00:00+00:00  8105.98  8920.31  8105.98  8845.22   \n",
      "\n",
      "         Volume  Coin_id  \n",
      "0  3.190754e+09  bitcoin  \n",
      "1  2.960040e+09  bitcoin  \n",
      "2  3.371678e+09  bitcoin  \n",
      "3  2.806997e+09  bitcoin  \n",
      "4  3.069220e+09  bitcoin  \n",
      "\n",
      "Column names: ['Timestamp', 'Open', 'High', 'Low', 'Close', 'Volume', 'Coin_id']\n"
     ]
    }
   ],
   "source": [
    "# Load the Bitcoin OHLC data\n",
    "df = pd.read_csv('top5_daily_ohlcv_since_2018-02-09.csv')\n",
    "\n",
    "# Rename columns to match expected format (capitalize first letter)\n",
    "df.columns = df.columns.str.capitalize()\n",
    "\n",
    "print(\"Dataset shape:\", df.shape)\n",
    "print(\"\\nFirst 5 rows:\")\n",
    "print(df.head())\n",
    "print(\"\\nColumn names:\", df.columns.tolist())"
   ]
  },
  {
   "cell_type": "code",
   "execution_count": 11,
   "metadata": {},
   "outputs": [
    {
     "name": "stdout",
     "output_type": "stream",
     "text": [
      "=== Win/Loss Metrics Analysis ===\n",
      "\n",
      "Win/Loss Ratio: 1.03\n",
      "Win Rate: 50.53%\n"
     ]
    }
   ],
   "source": [
    "# Calculate all metrics using the refactored functions\n",
    "print(\"=== Win/Loss Metrics Analysis ===\\n\")\n",
    "\n",
    "# Individual metric calculations\n",
    "print(f\"Win/Loss Ratio: {win_loss_ratio(df):.2f}\")\n",
    "print(f\"Win Rate: {win_rate(df):.2f}%\")\n"
   ]
  },
  {
   "cell_type": "code",
   "execution_count": 12,
   "metadata": {},
   "outputs": [
    {
     "name": "stdout",
     "output_type": "stream",
     "text": [
      "\n",
      "Maximum Win Streak: 13 days\n",
      "Maximum Loss Streak: 10 days\n",
      "Average Win Streak: 1.88 days\n",
      "Average Loss Streak: 1.83 days\n"
     ]
    }
   ],
   "source": [
    "# Streak analysis using the unified functions\n",
    "print(f\"\\nMaximum Win Streak: {max_streak(df, 'win')} days\")\n",
    "print(f\"Maximum Loss Streak: {max_streak(df, 'loss')} days\")\n",
    "print(f\"Average Win Streak: {avg_streak(df, 'win'):.2f} days\")\n",
    "print(f\"Average Loss Streak: {avg_streak(df, 'loss'):.2f} days\")"
   ]
  },
  {
   "cell_type": "code",
   "execution_count": 13,
   "metadata": {},
   "outputs": [
    {
     "name": "stdout",
     "output_type": "stream",
     "text": [
      "\n",
      "=== All Metrics (Batch Calculation) ===\n",
      "\n",
      "win_loss_ratio: 1.03\n",
      "win_rate: 50.53\n",
      "max_win_streak: 13\n",
      "max_loss_streak: 10\n",
      "avg_win_streak: 1.88\n",
      "avg_loss_streak: 1.83\n"
     ]
    }
   ],
   "source": [
    "# Calculate all metrics at once (more efficient)\n",
    "print(\"\\n=== All Metrics (Batch Calculation) ===\\n\")\n",
    "\n",
    "all_metrics = calculate_all_metrics(df)\n",
    "for metric, value in all_metrics.items():\n",
    "    if isinstance(value, float) and value != float('inf'):\n",
    "        print(f\"{metric}: {value:.2f}\")\n",
    "    else:\n",
    "        print(f\"{metric}: {value}\")"
   ]
  },
  {
   "cell_type": "code",
   "execution_count": 15,
   "metadata": {},
   "outputs": [
    {
     "name": "stdout",
     "output_type": "stream",
     "text": [
      "=== Day Type Distribution ===\n",
      "Green days: 50.53%\n",
      "Red days: 49.15%\n",
      "Neutral days: 0.32%\n",
      "\n",
      "Sample of labeled data:\n",
      "                   Timestamp      Open     Close  DayType\n",
      "0  2018-02-09 00:00:00+00:00   7611.61   7611.61  Neutral\n",
      "1  2018-02-10 00:00:00+00:00   8208.57   8672.57    green\n",
      "2  2018-02-11 00:00:00+00:00   8659.92   8590.21      red\n",
      "3  2018-02-12 00:00:00+00:00   8583.38   8064.69      red\n",
      "4  2018-02-13 00:00:00+00:00   8105.98   8845.22    green\n",
      "5  2018-02-14 00:00:00+00:00   8862.71   8531.09      red\n",
      "6  2018-02-15 00:00:00+00:00   8540.30   9449.70    green\n",
      "7  2018-02-16 00:00:00+00:00   9449.93  10138.05    green\n",
      "8  2018-02-17 00:00:00+00:00  10080.49  10162.74    green\n",
      "9  2018-02-18 00:00:00+00:00  10321.26  11030.75    green\n"
     ]
    }
   ],
   "source": [
    "# Example: Using the identify_day_types function from ohlc_analysis\n",
    "from ohlc_analysis import identify_day_types\n",
    "\n",
    "# Label the days\n",
    "df_with_types, percentages = identify_day_types(df)\n",
    "\n",
    "print(\"=== Day Type Distribution ===\")\n",
    "print(f\"Green days: {percentages['green']:.2f}%\")\n",
    "print(f\"Red days: {percentages['red']:.2f}%\")\n",
    "print(f\"Neutral days: {percentages['neutral']:.2f}%\")\n",
    "\n",
    "# Show sample of labeled data\n",
    "print(\"\\nSample of labeled data:\")\n",
    "print(df_with_types[['Timestamp', 'Open', 'Close', 'DayType']].head(10))\n"
   ]
  }
 ],
 "metadata": {
  "kernelspec": {
   "display_name": ".venv",
   "language": "python",
   "name": "python3"
  },
  "language_info": {
   "codemirror_mode": {
    "name": "ipython",
    "version": 3
   },
   "file_extension": ".py",
   "mimetype": "text/x-python",
   "name": "python",
   "nbconvert_exporter": "python",
   "pygments_lexer": "ipython3",
   "version": "3.13.5"
  }
 },
 "nbformat": 4,
 "nbformat_minor": 2
}

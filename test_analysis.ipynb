{
 "cells": [
  {
   "cell_type": "code",
   "execution_count": 24,
   "metadata": {},
   "outputs": [],
   "source": [
    "import pandas as pd\n",
    "import numpy as np\n",
    "import matplotlib.pyplot as plt\n",
    "import seaborn as sns\n",
    "\n",
    "from win_loss_ratio import win_loss_ratio\n",
    "from win_rate import win_rate\n",
    "from avg_loss_streak import avg_loss_streak\n",
    "from avg_win_streak import avg_win_streak\n",
    "from max_loss_streak import max_loss_streak\n",
    "from max_win_streak import max_win_streak\n",
    "\n"
   ]
  },
  {
   "cell_type": "code",
   "execution_count": 32,
   "metadata": {},
   "outputs": [
    {
     "name": "stdout",
     "output_type": "stream",
     "text": [
      "                      timestamp       open       high        low      close\n",
      "0     2018-02-09 00:00:00+00:00    7611.61    7611.61    7611.61    7611.61\n",
      "1     2018-02-10 00:00:00+00:00    8208.57    8674.76    7847.14    8672.57\n",
      "2     2018-02-11 00:00:00+00:00    8659.92    9088.97    8283.43    8590.21\n",
      "3     2018-02-12 00:00:00+00:00    8583.38    8583.38    7890.82    8064.69\n",
      "4     2018-02-13 00:00:00+00:00    8105.98    8920.31    8105.98    8845.22\n",
      "...                         ...        ...        ...        ...        ...\n",
      "2647  2025-05-11 00:00:00+00:00  102975.00  104763.00  102888.00  104631.00\n",
      "2648  2025-05-12 00:00:00+00:00  104710.00  104841.00  103480.00  103994.00\n",
      "2649  2025-05-13 00:00:00+00:00  104083.00  105503.00  101109.00  102877.00\n",
      "2650  2025-05-14 00:00:00+00:00  102823.00  104836.00  101698.00  104184.00\n",
      "2651  2025-05-15 00:00:00+00:00  104069.00  104156.00  102964.00  103594.00\n",
      "\n",
      "[2652 rows x 5 columns]\n"
     ]
    }
   ],
   "source": [
    "df = pd.read_csv('daily_bitcoin_ohlc.csv')\n",
    "\n",
    "print(df)\n",
    "\n",
    "# Extract close prices from the DataFrame\n",
    "close_prices = df['close'].tolist()"
   ]
  },
  {
   "cell_type": "code",
   "execution_count": 26,
   "metadata": {},
   "outputs": [
    {
     "name": "stdout",
     "output_type": "stream",
     "text": [
      "Dataset ratio: 1.06\n"
     ]
    }
   ],
   "source": [
    "print(f\"Dataset ratio: {win_loss_ratio(close_prices):.2f}\")\n"
   ]
  },
  {
   "cell_type": "code",
   "execution_count": 27,
   "metadata": {},
   "outputs": [
    {
     "name": "stdout",
     "output_type": "stream",
     "text": [
      "Dataset win rate: 51.53\n"
     ]
    }
   ],
   "source": [
    "print(f\"Dataset win rate: {win_rate(close_prices):.2f}\")"
   ]
  },
  {
   "cell_type": "code",
   "execution_count": 28,
   "metadata": {},
   "outputs": [
    {
     "name": "stdout",
     "output_type": "stream",
     "text": [
      "Dataset max win streak: 8\n"
     ]
    }
   ],
   "source": [
    "print(f\"Dataset max win streak: {max_win_streak(close_prices)}\")"
   ]
  },
  {
   "cell_type": "code",
   "execution_count": 29,
   "metadata": {},
   "outputs": [
    {
     "name": "stdout",
     "output_type": "stream",
     "text": [
      "Dataset max loss streak: 8\n"
     ]
    }
   ],
   "source": [
    "print(f\"Dataset max loss streak: {max_loss_streak(close_prices)}\")"
   ]
  },
  {
   "cell_type": "code",
   "execution_count": 30,
   "metadata": {},
   "outputs": [
    {
     "name": "stdout",
     "output_type": "stream",
     "text": [
      "Dataset average win streak: 1.92\n"
     ]
    }
   ],
   "source": [
    "print(f\"Dataset average win streak: {avg_win_streak(close_prices):.2f}\")"
   ]
  },
  {
   "cell_type": "code",
   "execution_count": 31,
   "metadata": {},
   "outputs": [
    {
     "name": "stdout",
     "output_type": "stream",
     "text": [
      "Dataset average loss streak: 1.80\n"
     ]
    }
   ],
   "source": [
    "print(f\"Dataset average loss streak: {avg_loss_streak(close_prices):.2f}\")"
   ]
  }
 ],
 "metadata": {
  "kernelspec": {
   "display_name": "Python (myenv)",
   "language": "python",
   "name": "myenv"
  },
  "language_info": {
   "codemirror_mode": {
    "name": "ipython",
    "version": 3
   },
   "file_extension": ".py",
   "mimetype": "text/x-python",
   "name": "python",
   "nbconvert_exporter": "python",
   "pygments_lexer": "ipython3",
   "version": "3.13.3"
  }
 },
 "nbformat": 4,
 "nbformat_minor": 2
}
